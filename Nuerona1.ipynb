{
  "nbformat": 4,
  "nbformat_minor": 0,
  "metadata": {
    "colab": {
      "provenance": [],
      "authorship_tag": "ABX9TyNo+cVcwjyVA/BqD3ahrGM2",
      "include_colab_link": true
    },
    "kernelspec": {
      "name": "python3",
      "display_name": "Python 3"
    },
    "language_info": {
      "name": "python"
    }
  },
  "cells": [
    {
      "cell_type": "markdown",
      "metadata": {
        "id": "view-in-github",
        "colab_type": "text"
      },
      "source": [
        "<a href=\"https://colab.research.google.com/github/jmikelel/BRIEF/blob/main/Nuerona1.ipynb\" target=\"_parent\"><img src=\"https://colab.research.google.com/assets/colab-badge.svg\" alt=\"Open In Colab\"/></a>"
      ]
    },
    {
      "cell_type": "code",
      "execution_count": null,
      "metadata": {
        "colab": {
          "base_uri": "https://localhost:8080/"
        },
        "id": "85W-HAG7jeQV",
        "outputId": "7d85eb3e-6be3-43b9-f302-7c835c65e2f1"
      },
      "outputs": [
        {
          "output_type": "stream",
          "name": "stdout",
          "text": [
            "0.610639233949222\n"
          ]
        }
      ],
      "source": [
        "import math\n",
        "\n",
        "def sigmoid(x):\n",
        "  y=1.0/(1+math.exp(-x))\n",
        "  return y\n",
        "\n",
        "def activation(inputs, weights):\n",
        "    #\n",
        "    h=0\n",
        "    for x,w in zip(inputs,weights):\n",
        "      h+=x*w\n",
        "\n",
        "    #\n",
        "    return sigmoid(h)\n",
        "\n",
        "if __name__ == \"__main__\":\n",
        "  inputs=[.5, .3, .2]\n",
        "  weights=[.4, .7, .2]\n",
        "  output = activation(inputs,weights)\n",
        "  print(output)"
      ]
    },
    {
      "cell_type": "code",
      "source": [],
      "metadata": {
        "id": "aTVTMsSDqtJI"
      },
      "execution_count": null,
      "outputs": []
    },
    {
      "cell_type": "markdown",
      "source": [],
      "metadata": {
        "id": "qJDMZqaHSsps"
      }
    }
  ]
}